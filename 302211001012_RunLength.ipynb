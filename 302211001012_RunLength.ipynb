{
  "nbformat": 4,
  "nbformat_minor": 0,
  "metadata": {
    "colab": {
      "provenance": []
    },
    "kernelspec": {
      "name": "python3",
      "display_name": "Python 3"
    },
    "language_info": {
      "name": "python"
    }
  },
  "cells": [
    {
      "cell_type": "code",
      "source": [
        "!pip install opencv-python"
      ],
      "metadata": {
        "colab": {
          "base_uri": "https://localhost:8080/"
        },
        "id": "KpL1CnhveLab",
        "outputId": "ff1955f8-13fe-4e0e-d4c5-049d59a8d6d5"
      },
      "execution_count": 35,
      "outputs": [
        {
          "output_type": "stream",
          "name": "stdout",
          "text": [
            "Requirement already satisfied: opencv-python in /usr/local/lib/python3.10/dist-packages (4.8.0.76)\n",
            "Requirement already satisfied: numpy>=1.21.2 in /usr/local/lib/python3.10/dist-packages (from opencv-python) (1.25.2)\n"
          ]
        }
      ]
    },
    {
      "cell_type": "markdown",
      "source": [
        "#Implement the run-length encoding and decoding techniques.\n",
        "\n",
        "#Execute the implementation on `text data`"
      ],
      "metadata": {
        "id": "4qwzk1YIP5VC"
      }
    },
    {
      "cell_type": "markdown",
      "source": [
        "**Google Drive Link For 'input.txt':**  [Link](https://drive.google.com/file/d/1znurWSCx50VTZxcOtOdtKWakTI_tqrPU/view)\n"
      ],
      "metadata": {
        "id": "fPmuc4ybQqp4"
      }
    },
    {
      "cell_type": "code",
      "source": [
        "import time\n",
        "import os\n",
        "import cv2\n",
        "import numpy as np\n",
        "from google.colab.patches import cv2_imshow"
      ],
      "metadata": {
        "id": "2KqOv2qSFPEd"
      },
      "execution_count": 36,
      "outputs": []
    },
    {
      "cell_type": "code",
      "source": [
        "def encode_text(input_text):\n",
        "    encoded_text = []\n",
        "    row_sizes = []\n",
        "\n",
        "    for row in input_text:\n",
        "        if row.strip():\n",
        "            encoded_row = []\n",
        "            row_size = 0\n",
        "            current_symbol = row[0]\n",
        "            count = 1\n",
        "\n",
        "            for symbol in row[1:]:\n",
        "                if symbol == current_symbol:\n",
        "                    count += 1\n",
        "                else:\n",
        "                    encoded_row.extend([current_symbol, count])\n",
        "                    current_symbol = symbol\n",
        "                    count = 1\n",
        "                    row_size += 2\n",
        "\n",
        "            encoded_row.extend([current_symbol, count])\n",
        "            encoded_text.append(encoded_row)\n",
        "            row_size += 2\n",
        "            row_sizes.append(row_size)\n",
        "\n",
        "    return encoded_text, row_sizes"
      ],
      "metadata": {
        "id": "eI5-pPRcF4NH"
      },
      "execution_count": 37,
      "outputs": []
    },
    {
      "cell_type": "markdown",
      "source": [
        "Here's a brief overview of how the `encode_text` function works:\n",
        "\n",
        "1. **Initialization**: The function initializes two lists, `encoded_text` to store the encoded versions of the input text rows, and `row_sizes` to store the sizes of each row.\n",
        "\n",
        "2. **Encoding Process**: It iterates through each row in the input text. If the row contains non-whitespace characters, it proceeds with encoding.\n",
        "\n",
        "3. **Run-Length Encoding**: For each non-empty row, the function iterates through the characters, maintaining a count of consecutive occurrences of each symbol. When a different symbol is encountered, it appends the symbol and its count to the encoded row. Additionally, it increments the `row_size` counter to keep track of the size of the row.\n",
        "\n",
        "4. **Appending Results**: After encoding a row, the encoded row and its size are appended to `encoded_text` and `row_sizes` lists, respectively.\n",
        "\n",
        "5. **Returning Results**: The function returns the encoded text (`encoded_text`) along with the sizes of each row (`row_sizes`)."
      ],
      "metadata": {
        "id": "aI1UG3rDOneI"
      }
    },
    {
      "cell_type": "code",
      "source": [
        "def decode_text(encoded_text, row_sizes):\n",
        "    decoded_text = []\n",
        "\n",
        "    for r, row_size in enumerate(row_sizes):\n",
        "        row = []\n",
        "        c = 0\n",
        "\n",
        "        while c < row_size:\n",
        "            current_symbol = encoded_text[r][c]\n",
        "            frequency = encoded_text[r][c + 1]\n",
        "\n",
        "            row.extend([current_symbol] * frequency)\n",
        "            c += 2\n",
        "\n",
        "        decoded_text.append(row)\n",
        "\n",
        "    return decoded_text"
      ],
      "metadata": {
        "id": "9GsJN_RMMWBQ"
      },
      "execution_count": 38,
      "outputs": []
    },
    {
      "cell_type": "markdown",
      "source": [
        "The function `decode_text` is designed to reverse the process of encoding performed by the `encode_text` function. It takes in two arguments: the `encoded_text`, which contains the run-length encoded representation of the original text, and `row_sizes`, which specifies the sizes of the rows in the encoded text.\n",
        "\n",
        "Here's a summary of how the function works:\n",
        "\n",
        "1. **Initialization**: The function initializes an empty list `decoded_text` to store the decoded version of the text.\n",
        "\n",
        "2. **Decoding Process**: It iterates through each row of the encoded text along with its corresponding row size.\n",
        "\n",
        "3. **Decompression**: For each row, it iterates through the encoded symbols and their frequencies. It then reconstructs the original text by repeating each symbol according to its frequency.\n",
        "\n",
        "4. **Appending Results**: The decoded row is appended to the `decoded_text` list.\n",
        "\n",
        "5. **Returning Results**: Finally, the function returns the decoded text as a list of rows."
      ],
      "metadata": {
        "id": "U5TLNhGkO_Z4"
      }
    },
    {
      "cell_type": "code",
      "source": [
        "with open('input.txt', 'r', encoding='iso-8859-1') as file:\n",
        "    input_text_data = file.readlines()\n",
        "\n",
        "input_text_data = [line.strip() for line in input_text_data]\n",
        "\n",
        "start_time = time.time()\n",
        "encoded_text, row_sizes = encode_text(input_text_data)\n",
        "encoding_time = time.time() - start_time\n",
        "\n",
        "with open('encoded_text.txt', 'w') as file:\n",
        "    for row in encoded_text:\n",
        "        file.write(' '.join(map(str, row)) + '\\n')"
      ],
      "metadata": {
        "id": "-dbL2uzZMtno"
      },
      "execution_count": 39,
      "outputs": []
    },
    {
      "cell_type": "markdown",
      "source": [
        "1. **Reading Input Text**: The code opens the file named `input.txt` in read mode with ISO 8859-1 encoding. It then reads the lines of text from the file into a list called `input_text_data`, stripping any leading or trailing whitespace from each line.\n",
        "\n",
        "2. **Encoding Text**: The `encode_text` function is called with `input_text_data` as input, resulting in the `encoded_text` and `row_sizes` lists. This step performs the run-length encoding of the input text.\n",
        "\n",
        "3. **Writing Encoded Text to File**: The encoded text data is written to a file named `encoded_text.txt`. Each row of the encoded text is written as space-separated values, with each symbol followed by its count, and each row terminated by a newline character.\n",
        "\n",
        "4. **Timing Encoding Process**: The code measures the time taken for the encoding process using the `time.time()` function before and after the encoding operation."
      ],
      "metadata": {
        "id": "QvuF2U8RPQ55"
      }
    },
    {
      "cell_type": "code",
      "source": [
        "decoded_text = decode_text(encoded_text, row_sizes)\n",
        "\n",
        "with open('decoded_text.txt', 'w') as file:\n",
        "    for row in decoded_text:\n",
        "        file.write(''.join(row) + '\\n')"
      ],
      "metadata": {
        "id": "px-bCZLgND-g"
      },
      "execution_count": 40,
      "outputs": []
    },
    {
      "cell_type": "markdown",
      "source": [
        "1. **Decoding Text**: The `decode_text` function is called with the `encoded_text` and `row_sizes` obtained from the encoding process. This function reverses the run-length encoding, reconstructing the original text data.\n",
        "\n",
        "2. **Writing Decoded Text to File**: The decoded text data is then written to a file named `decoded_text.txt`. Each row of the decoded text is written as a string with characters concatenated together, and each row is terminated by a newline character."
      ],
      "metadata": {
        "id": "6mEU8-V1PdfJ"
      }
    },
    {
      "cell_type": "code",
      "source": [
        "# Print encoding results\n",
        "\n",
        "input_file_size = os.path.getsize('input.txt')\n",
        "encoded_file_size = os.path.getsize('encoded_text.txt')\n",
        "compression_ratio = input_file_size/encoded_file_size\n",
        "\n",
        "print(\"Size of Input File:\", input_file_size, \"bytes\")\n",
        "print(\"Size of Encoded File:\", encoded_file_size, \"bytes\")\n",
        "print(\"Compression Ratio:\", compression_ratio)\n",
        "print(\"Encoding Time:\", encoding_time, \"seconds\")"
      ],
      "metadata": {
        "colab": {
          "base_uri": "https://localhost:8080/"
        },
        "id": "ngGfxhtAKlyv",
        "outputId": "ca9d9530-7a25-467d-b40f-8a333a6b6487"
      },
      "execution_count": 41,
      "outputs": [
        {
          "output_type": "stream",
          "name": "stdout",
          "text": [
            "Size of Input File: 70 bytes\n",
            "Size of Encoded File: 20 bytes\n",
            "Compression Ratio: 3.5\n",
            "Encoding Time: 0.00013780593872070312 seconds\n"
          ]
        }
      ]
    },
    {
      "cell_type": "markdown",
      "source": [
        "#Implementation on `Binary Image`"
      ],
      "metadata": {
        "id": "6d6fq_EwR_u5"
      }
    },
    {
      "cell_type": "markdown",
      "source": [
        "**Google Drive link of 'chess.png':**   [Link](https://drive.google.com/file/d/1leVY7R2Skw9mKsD2Sr8wYr5hxGPJYa7d/view)"
      ],
      "metadata": {
        "id": "o6lIU8g9p-u6"
      }
    },
    {
      "cell_type": "code",
      "source": [
        "def convert_binary_image_to_text(image_path, output_file):\n",
        "    img = cv2.imread(image_path, cv2.IMREAD_GRAYSCALE)\n",
        "\n",
        "    _, img = cv2.threshold(img, 127, 255, cv2.THRESH_BINARY)\n",
        "\n",
        "    with open(output_file, 'w') as file:\n",
        "        for row in img:\n",
        "            row_str = ''.join(map(lambda pixel: '1' if pixel == 255 else '0', row))\n",
        "            file.write(row_str + '\\n')\n",
        "\n",
        "def encode_binary_file(input_file, output_file):\n",
        "    with open(input_file, 'r') as file_in:\n",
        "        with open(output_file, 'w') as file_out:\n",
        "            for row in file_in:\n",
        "                binary_data = row.strip()\n",
        "                encoded_data = []\n",
        "                count = 1\n",
        "                for i in range(1, len(binary_data)):\n",
        "                    if binary_data[i] == binary_data[i-1]:\n",
        "                        count += 1\n",
        "                    else:\n",
        "                        encoded_data.append((binary_data[i-1], count))\n",
        "                        count = 1\n",
        "                encoded_data.append((binary_data[-1], count))\n",
        "                for item in encoded_data:\n",
        "                    file_out.write(f\"{item[0]} {item[1]} \")\n",
        "                file_out.write('\\n')"
      ],
      "metadata": {
        "id": "jv5aFqeASNJw"
      },
      "execution_count": 42,
      "outputs": []
    },
    {
      "cell_type": "markdown",
      "source": [
        "1. `convert_binary_image_to_text`: This function takes an image file path (`image_path`) and an output file path (`output_file`). It reads the image, converts it to grayscale, and then applies a binary threshold to convert it into a binary image. It then iterates over each row of the binary image, converting the pixel values to '1' if they are 255 (white) and '0' otherwise. Finally, it writes the binary representation of the image to the output file.\n",
        "\n",
        "2. `encode_binary_file`: This function takes an input file path (`input_file`) containing binary data (as '0's and '1's) and an output file path (`output_file`). It reads each row of binary data from the input file, compresses consecutive runs of the same digit using run-length encoding, and writes the encoded data to the output file. Each run of consecutive digits is represented as a tuple containing the digit and its count.\n"
      ],
      "metadata": {
        "id": "GdySKxvHmzXV"
      }
    },
    {
      "cell_type": "code",
      "source": [
        "def decode_encoded_file(input_file_path):\n",
        "    decoded_data = []\n",
        "    with open(input_file_path, 'r') as file:\n",
        "        lines = file.readlines()\n",
        "\n",
        "    for line in lines:\n",
        "        line = line.strip().split()\n",
        "        encoded_data = [(line[i], int(line[i+1])) for i in range(0, len(line), 2)]\n",
        "        decoded_row = ''\n",
        "        for pair_idx in range(len(encoded_data)):\n",
        "            if pair_idx % 2 == 0:\n",
        "                continue\n",
        "            bit = '1' if encoded_data[pair_idx][0] == '1' else '0'\n",
        "            count = encoded_data[pair_idx][1]\n",
        "            decoded_row += bit * count\n",
        "        decoded_data.append(decoded_row)\n",
        "\n",
        "    return decoded_data\n",
        "\n",
        "def save_image(decoded_data, output_file_path):\n",
        "    height = len(decoded_data)\n",
        "    width = max(len(row) for row in decoded_data)\n",
        "\n",
        "    image = np.zeros((height, width), dtype=np.uint8)\n",
        "    for i, row in enumerate(decoded_data):\n",
        "        for j, bit in enumerate(row):\n",
        "            if j % 2 == 1:\n",
        "                image[i, j] = int(bit) * 255\n",
        "\n",
        "    cv2.imwrite(output_file_path, image)"
      ],
      "metadata": {
        "id": "buo-DXA0YIgr"
      },
      "execution_count": 43,
      "outputs": []
    },
    {
      "cell_type": "markdown",
      "source": [
        "1. `decode_encoded_file`: This function takes an input file path (`input_file_path`) containing compressed binary data in run-length encoded format. It reads the encoded data from the file, decodes each line, and reconstructs the original binary data. It then returns the decoded binary data as a list of strings, where each string represents a row of the decoded image.\n",
        "\n",
        "2. `save_image`: This function takes the decoded binary data (as a list of strings) and an output file path (`output_file_path`). It determines the dimensions of the image based on the size of the decoded data. Then, it creates a NumPy array representing the image and fills it with pixel values according to the decoded binary data. Finally, it writes the image to the specified output file path using OpenCV."
      ],
      "metadata": {
        "id": "y1_amyS_nGVU"
      }
    },
    {
      "cell_type": "code",
      "source": [
        "def decode_binary_file(input_file):\n",
        "    decoded_data = []\n",
        "    with open(input_file, 'r') as file:\n",
        "        lines = file.readlines()\n",
        "\n",
        "    for line in lines:\n",
        "        line = line.strip().split()\n",
        "        encoded_data = [(line[i], int(line[i+1])) for i in range(0, len(line), 2)]\n",
        "        decoded_row = ''\n",
        "        for item in encoded_data:\n",
        "          decoded_row += item[0] * item[1]\n",
        "\n",
        "        decoded_data.append(decoded_row)\n",
        "\n",
        "    return decoded_data\n",
        "\n",
        "def save_image(decoded_data, output_file):\n",
        "    height = len(decoded_data)\n",
        "    width = max(len(row) for row in decoded_data)\n",
        "    image = np.zeros((height, width), dtype=np.uint8)\n",
        "\n",
        "    for i, row in enumerate(decoded_data):\n",
        "        for j, bit in enumerate(row):\n",
        "            image[i, j] = int(bit) * 255\n",
        "\n",
        "    cv2.imwrite(output_file, image)"
      ],
      "metadata": {
        "id": "z0bNdAwvZoES"
      },
      "execution_count": 44,
      "outputs": []
    },
    {
      "cell_type": "markdown",
      "source": [
        "1. `decode_binary_file`: This function takes an input file path (`input_file`) containing binary data in a run-length encoded format. It reads the encoded data from the file, decodes each line, and reconstructs the original binary data. It then returns the decoded binary data as a list of strings, where each string represents a row of the decoded image.\n",
        "\n",
        "2. `save_image`: This function takes the decoded binary data (as a list of strings) and an output file path (`output_file`). It determines the dimensions of the image based on the size of the decoded data. Then, it creates a NumPy array representing the image and fills it with pixel values according to the decoded binary data. Finally, it writes the image to the specified output file path using OpenCV.\n"
      ],
      "metadata": {
        "id": "F3USiL4onxaT"
      }
    },
    {
      "cell_type": "code",
      "source": [
        "start_time = time.time()\n",
        "\n",
        "binary_image_path = 'chess.png'\n",
        "output_text_file_path = 'binary_image_text.txt'\n",
        "convert_binary_image_to_text(binary_image_path, output_text_file_path)\n",
        "\n",
        "output_compressed_file_path = 'encoded_binary_text.txt'\n",
        "encode_binary_file(output_text_file_path, output_compressed_file_path)\n",
        "\n",
        "compression_time = time.time() - start_time"
      ],
      "metadata": {
        "id": "oMB1JgGESxBa"
      },
      "execution_count": 50,
      "outputs": []
    },
    {
      "cell_type": "markdown",
      "source": [
        "1. **Image Conversion and Compression**:\n",
        "    - Initially, the script converts a binary image (in this case, 'chess.png') into a textual representation using the `convert_binary_image_to_text` function. This function converts the binary image to a text file containing '0's and '1's, representing pixel values.\n",
        "    - Following the conversion, the binary data is compressed using a run-length encoding scheme through the `encode_binary_file` function. This generates a compressed binary text file.\n",
        "\n",
        "2. **Timing Compression Process**:\n",
        "    - The `time.time()` function is utilized to measure the time taken for the compression process. It captures the start time before the compression begins and calculates the elapsed time once the compression is completed.\n",
        "\n",
        "3. **Output Paths**:\n",
        "    - The output paths for the converted binary image text file (`output_text_file_path`) and the compressed binary text file (`output_compressed_file_path`) are specified.\n",
        "\n",
        "4. **Compression Time**:\n",
        "    - The `compression_time` variable captures the duration of the compression process by subtracting the start time from the current time after compression."
      ],
      "metadata": {
        "id": "mlNHz89BodqL"
      }
    },
    {
      "cell_type": "code",
      "source": [
        "# Print the encoded text as image\n",
        "\n",
        "decoded_data = decode_encoded_file(output_compressed_file_path)\n",
        "compressed_binary_graph_path = 'encoded_binary_graph.png'\n",
        "save_image(decoded_data, compressed_binary_graph_path)\n",
        "\n",
        "print(\"Encoded Binary Image Graph: \")\n",
        "img = cv2.imread(compressed_binary_graph_path, cv2.IMREAD_UNCHANGED)\n",
        "cv2_imshow(img)"
      ],
      "metadata": {
        "colab": {
          "base_uri": "https://localhost:8080/",
          "height": 1000
        },
        "id": "MQqacS8zaK4Y",
        "outputId": "db91ab09-4ded-4166-fd68-4587c9aa3874"
      },
      "execution_count": 46,
      "outputs": [
        {
          "output_type": "stream",
          "name": "stdout",
          "text": [
            "Encoded Binary Image Graph: \n"
          ]
        },
        {
          "output_type": "display_data",
          "data": {
            "text/plain": [
              "<PIL.Image.Image image mode=L size=918x1200>"
            ],
            "image/png": "[encoded data removed]"
          },
          "metadata": {}
        }
      ]
    },
    {
      "cell_type": "code",
      "source": [
        "# Print the decoded image\n",
        "\n",
        "decoded_data = decode_binary_file(output_compressed_file_path)\n",
        "output_image_file_path = 'decoded_binary_image.png'\n",
        "save_image(decoded_data, output_image_file_path)\n",
        "\n",
        "print(\"Decoded Binary Image: \")\n",
        "img = cv2.imread(output_image_file_path, cv2.IMREAD_UNCHANGED)\n",
        "cv2_imshow(img)"
      ],
      "metadata": {
        "colab": {
          "base_uri": "https://localhost:8080/",
          "height": 1000
        },
        "id": "k2PIsI5Iaa_7",
        "outputId": "d910f323-948c-4de5-bb20-10d2967b6eae"
      },
      "execution_count": 47,
      "outputs": [
        {
          "output_type": "stream",
          "name": "stdout",
          "text": [
            "Decoded Binary Image: \n"
          ]
        },
        {
          "output_type": "display_data",
          "data": {
            "text/plain": [
              "<PIL.Image.Image image mode=L size=1200x1200>"
            ],
            "image/png": "[encoded data removed]"
          },
          "metadata": {}
        }
      ]
    },
    {
      "cell_type": "code",
      "source": [
        "#Print encoding results\n",
        "\n",
        "input_size = os.path.getsize(output_text_file_path)\n",
        "compressed_size = os.path.getsize(output_compressed_file_path)\n",
        "compression_ratio = input_size / compressed_size\n",
        "\n",
        "print(\"Size of Input File:\", input_size, \"bytes\")\n",
        "print(\"Size of Compressed File:\", compressed_size, \"bytes\")\n",
        "print(\"Compression Ratio:\", compression_ratio)\n",
        "print(\"Compression Time:\", compression_time, \"seconds\")"
      ],
      "metadata": {
        "colab": {
          "base_uri": "https://localhost:8080/"
        },
        "id": "Wps1eO2raSLY",
        "outputId": "44a0b13e-edc4-417a-da37-70c1f85a2de0"
      },
      "execution_count": 48,
      "outputs": [
        {
          "output_type": "stream",
          "name": "stdout",
          "text": [
            "Size of Input File: 1441200 bytes\n",
            "Size of Compressed File: 117436 bytes\n",
            "Compression Ratio: 12.27221635614292\n",
            "Compression Time: 3.8719229698181152 seconds\n"
          ]
        }
      ]
    },
    {
      "cell_type": "markdown",
      "source": [
        "#Implementation on `8-bit Grayscale Image`"
      ],
      "metadata": {
        "id": "baV1U8r7qYBx"
      }
    },
    {
      "cell_type": "markdown",
      "source": [
        "**Google Drive Link of 'grayscale.png:** [Link](https://drive.google.com/file/d/1RHDvk3lM5njnO1hO_kRjB3C0yc_XMzEn/view)"
      ],
      "metadata": {
        "id": "0rCiH3nOdzLv"
      }
    },
    {
      "cell_type": "code",
      "source": [
        "def grayscale_to_text(image_path, output_txt):\n",
        "    image = cv2.imread(image_path, cv2.IMREAD_GRAYSCALE)\n",
        "\n",
        "    with open(output_txt, 'w') as file:\n",
        "        for row in image:\n",
        "            for pixel in row:\n",
        "                file.write(f\"{pixel} \")\n",
        "            file.write('\\n')\n",
        "\n",
        "def encode_grayscale_image(input_file, output_encoded_file):\n",
        "    with open(input_file, 'r') as file:\n",
        "        lines = file.readlines()\n",
        "\n",
        "    with open(output_encoded_file, 'w') as outfile:\n",
        "        for line in lines:\n",
        "            row = [int(x) for x in line.split()]\n",
        "            encoded_row = []\n",
        "            count = 1\n",
        "            for i in range(1, len(row)):\n",
        "                if row[i] == row[i - 1]:\n",
        "                    count += 1\n",
        "                else:\n",
        "                    encoded_row.extend([row[i - 1], count])\n",
        "                    count = 1\n",
        "            encoded_row.extend([row[-1], count])\n",
        "\n",
        "            for item in encoded_row:\n",
        "                outfile.write(f\"{item} \")\n",
        "            outfile.write('\\n')"
      ],
      "metadata": {
        "id": "KX0Mx2B4q4CV"
      },
      "execution_count": 49,
      "outputs": []
    },
    {
      "cell_type": "markdown",
      "source": [
        "**1. `grayscale_to_text(image_path, output_txt)`**\n",
        "- This function takes the path to a grayscale image and an output text file as input.\n",
        "- It reads the image and writes the pixel values of each row into the output text file, separated by spaces.\n",
        "\n",
        "**2. `encode_grayscale_image(input_file, output_encoded_file)`**\n",
        "- This function takes a text file containing grayscale pixel values and an output file path for the encoded data.\n",
        "- It reads each line from the input text file, representing a row of pixel values.\n",
        "- The function encodes each row using a run-length encoding technique to reduce redundancy in consecutive pixel values.\n",
        "- The encoded rows are written to the output file, with each pixel value followed by its count, separated by spaces.\n"
      ],
      "metadata": {
        "id": "wEbxbx17ZExV"
      }
    },
    {
      "cell_type": "code",
      "source": [
        "def display_encoded_image(input_file, output_image_file):\n",
        "    decoded_data = []\n",
        "    with open(input_file, 'r') as file:\n",
        "        lines = file.readlines()\n",
        "\n",
        "    for line in lines:\n",
        "        encoded_row = [int(x) for x in line.split()]\n",
        "        decoded_row = []\n",
        "        for i in range(0, len(encoded_row), 2):\n",
        "            pixel_value = encoded_row[i]\n",
        "            decoded_row.append(pixel_value)\n",
        "        decoded_data.append(decoded_row)\n",
        "\n",
        "    max_length = max(len(row) for row in decoded_data)\n",
        "    padded_data = []\n",
        "    for row in decoded_data:\n",
        "        padded_row = row + [row[-1]] * (max_length - len(row))\n",
        "        padded_data.append(padded_row)\n",
        "\n",
        "    image_data = np.array(padded_data, dtype=np.uint8)\n",
        "    cv2.imwrite(output_image_file, image_data)"
      ],
      "metadata": {
        "id": "NT7lUFiQSctb"
      },
      "execution_count": null,
      "outputs": []
    },
    {
      "cell_type": "markdown",
      "source": [
        "1. **Input Parsing:** It reads the input text file containing encoded pixel values and their counts, each row representing a line of the image.\n",
        "2. **Decoding:** The function decodes the encoded pixel values to reconstruct the original pixel values for each row.\n",
        "3. **Padding:** Since the encoding may result in rows of different lengths, the function pads each row with the last pixel value to ensure uniformity.\n",
        "4. **Image Construction:** It constructs an image array using the decoded and padded pixel values.\n",
        "5. **Output:** The constructed image array is saved as an image file specified by the output file path.\n"
      ],
      "metadata": {
        "id": "1h_UVqtFZVFc"
      }
    },
    {
      "cell_type": "code",
      "source": [
        "def decode_grayscale_image(input_file):\n",
        "    decoded_data = []\n",
        "    with open(input_file, 'r') as file:\n",
        "        lines = file.readlines()\n",
        "\n",
        "    for line in lines:\n",
        "        encoded_row = [int(x) for x in line.split()]\n",
        "        decoded_row = []\n",
        "        for i in range(0, len(encoded_row), 2):\n",
        "          pixel_value = encoded_row[i]\n",
        "          count = encoded_row[i + 1]\n",
        "          decoded_row.extend([pixel_value] * count)\n",
        "        decoded_data.append(decoded_row)\n",
        "\n",
        "    return decoded_data"
      ],
      "metadata": {
        "id": "13OSaxa5Sh1s"
      },
      "execution_count": null,
      "outputs": []
    },
    {
      "cell_type": "markdown",
      "source": [
        "\n",
        "1. **Input Parsing:** It reads the input text file containing encoded pixel values and their counts, each row representing a line of the image.\n",
        "2. **Decoding:** The function iterates through each line of the input file, decoding the encoded pixel values and counts.\n",
        "3. **Reconstruction:** For each encoded row, it reconstructs the original pixel values by replicating each pixel value according to its count.\n",
        "4. **Output:** The decoded pixel values are stored in a list, representing the original grayscale image data."
      ],
      "metadata": {
        "id": "ljDjmJdFZh_L"
      }
    },
    {
      "cell_type": "code",
      "source": [
        "start_time = time.time()\n",
        "input_image_path = 'grayscale.png'\n",
        "output_txt_file = 'grayscale_image_text.txt'\n",
        "grayscale_to_text(input_image_path, output_txt_file)\n",
        "\n",
        "encoded_grayscale_file = 'encoded_grayscale_output.txt'\n",
        "encode_grayscale_image(output_txt_file, encoded_grayscale_file)\n",
        "\n",
        "compression_time = time.time() - start_time"
      ],
      "metadata": {
        "id": "wSDZJ8NarTI7"
      },
      "execution_count": 51,
      "outputs": []
    },
    {
      "cell_type": "code",
      "source": [
        "compressed_image = 'encoded_grascale_image.png'\n",
        "display_encoded_image(encoded_grayscale_file, compressed_image)\n",
        "\n",
        "print(\"Encoded Grayscale Image\")\n",
        "img = cv2.imread(compressed_image, cv2.IMREAD_UNCHANGED)\n",
        "cv2_imshow(img)"
      ],
      "metadata": {
        "colab": {
          "base_uri": "https://localhost:8080/",
          "height": 409
        },
        "id": "4418V0zHakwX",
        "outputId": "ccd13b4b-e3b9-48bd-c909-79db24434eb2"
      },
      "execution_count": 52,
      "outputs": [
        {
          "output_type": "stream",
          "name": "stdout",
          "text": [
            "Encoded Grayscale Image\n"
          ]
        },
        {
          "output_type": "display_data",
          "data": {
            "text/plain": [
              "<PIL.Image.Image image mode=L size=83x375>"
            ],
            "image/png": "[encoded data removed]"
          },
          "metadata": {}
        }
      ]
    },
    {
      "cell_type": "markdown",
      "source": [
        "\n",
        "1. **Encoding:** The original grayscale image is encoded using a run-length encoding technique, resulting in a compressed representation stored in a text file.\n",
        "2. **Display:** The `display_encoded_image` function decodes the compressed image from the text file and saves it as a PNG file. This function ensures that the decoded image is correctly formatted and displayed.\n",
        "3. **Visualization:** The code snippet then utilizes OpenCV to load and display the compressed grayscale image. It showcases the compressed image using the `cv2_imshow` function, allowing users to visualize the compressed image.\n"
      ],
      "metadata": {
        "id": "CVti0nTQcYGr"
      }
    },
    {
      "cell_type": "code",
      "source": [
        "output_image_file = 'decoded_grayscale_image.png'\n",
        "\n",
        "decoded_data = decode_grayscale_image(encoded_grayscale_file)\n",
        "image = np.array(decoded_data, dtype=np.uint8)\n",
        "cv2.imwrite(output_image_file, image)\n",
        "\n",
        "print(\"Decoded Grayscale Image:\")\n",
        "img = cv2.imread(output_image_file, cv2.IMREAD_UNCHANGED)\n",
        "cv2_imshow(img)"
      ],
      "metadata": {
        "colab": {
          "base_uri": "https://localhost:8080/",
          "height": 409
        },
        "id": "pp7ayvJca50u",
        "outputId": "6ef14ba4-b4af-431e-8028-c6ad01e9789d"
      },
      "execution_count": 53,
      "outputs": [
        {
          "output_type": "stream",
          "name": "stdout",
          "text": [
            "Decoded Grayscale Image:\n"
          ]
        },
        {
          "output_type": "display_data",
          "data": {
            "text/plain": [
              "<PIL.Image.Image image mode=L size=400x375>"
            ],
            "image/png": "[encoded data removed]"
          },
          "metadata": {}
        }
      ]
    },
    {
      "cell_type": "markdown",
      "source": [
        "\n",
        "1. **Decoding:** The encoded grayscale image, stored in a text file, is decoded using the `decode_grayscale_image` function. This function reconstructs the original pixel values from the encoded data.\n",
        "2. **Image Reconstruction:** The decoded pixel values are converted into a NumPy array, representing the decompressed grayscale image.\n",
        "3. **Saving:** The decompressed image array is saved as a PNG file using OpenCV's `cv2.imwrite` function.\n",
        "\n",
        "**Visualization:**\n",
        "- After decompression and saving, the code snippet displays the decompressed grayscale image using OpenCV's `cv2_imshow` function. This allows users to visually inspect the quality of the decompressed image."
      ],
      "metadata": {
        "id": "j5Myl91IcuGT"
      }
    },
    {
      "cell_type": "code",
      "source": [
        "#Print encoding results\n",
        "\n",
        "input_size = os.path.getsize(input_image_path)\n",
        "compressed_size = os.path.getsize(compressed_image)\n",
        "compression_ratio = input_size / compressed_size\n",
        "\n",
        "print(\"Size of Input image:\", input_size, \"bytes\")\n",
        "print(\"Size of encoded image\", compressed_size, \"bytes\")\n",
        "print(\"Compression Ratio:\", compression_ratio)\n",
        "print(\"Compression Time:\", compression_time, \"seconds\")"
      ],
      "metadata": {
        "colab": {
          "base_uri": "https://localhost:8080/"
        },
        "id": "pRNMCwknavxN",
        "outputId": "f30fec67-378a-4feb-e59f-5a827fe88e33"
      },
      "execution_count": 54,
      "outputs": [
        {
          "output_type": "stream",
          "name": "stdout",
          "text": [
            "Size of Input image: 8413 bytes\n",
            "Size of encoded image 4150 bytes\n",
            "Compression Ratio: 2.0272289156626506\n",
            "Compression Time: 0.13949012756347656 seconds\n"
          ]
        }
      ]
    }
  ]
}
